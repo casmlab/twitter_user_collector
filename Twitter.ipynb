{
 "cells": [
  {
   "cell_type": "markdown",
   "metadata": {},
   "source": [
    "# Twitter Collector\n",
    "\n",
    "## Setup\n",
    "Before you start, you need a few things:\n",
    "1. Twitter OAuth credentials\n",
    "2. plain-text file containing either Twitter handles or user ids (one per line)\n",
    "3. ```settings.cfg``` with proper settings\n",
    "4. virtual environment with all the necessary Python modules - we provide [`environment.yml`](environment.yml) for `conda` users and [`requirements.txt`](requirements.txt) for `pip` users (NOTE: we've tested these only on OS X)\n",
    "\n",
    "### Getting Twitter OAuth Credentials\n",
    "Here's [Twitter's overview](https://dev.twitter.com/oauth/overview) of the credentials and the process.\n",
    "\n",
    "### List of users to fetch\n",
    "The scripts can look for either handles or user ids but not both. So, you need to create a plain-text file with one handle or user id per line. We provided [```list_example.txt```](list_example.txt) to show you how.\n",
    "\n",
    "### Script Settings\n",
    "1. Copy [```settings-example.cfg```](config/settings.cfg) to ```settings.cfg```\n",
    "2. Replace the values in ```settings.cfg``` with settings appropriate for your environment and with your own Twitter credentials\n",
    "\n",
    "The settings (besides Twitter credentials) are\n",
    "- logfile: the name of the file where you want to log the script's output (mostly progress updates)\n",
    "- listfile: the name of the file containg your list of handles or ids to fetch\n",
    "- outfolder: path to the folder where you want the script to store the JSON(s) returned by Twitter\n",
    "- user_id: set to `true` if you provided a list of ids, otherwise leave it as `false`\n",
    "\n",
    "## Collect and Cache\n",
    "To download the user timelines as JSON files (one per use), run the script below:"
   ]
  },
  {
   "cell_type": "code",
   "execution_count": null,
   "metadata": {
    "collapsed": false
   },
   "outputs": [],
   "source": [
    "run twitter_collect.py"
   ]
  },
  {
   "cell_type": "markdown",
   "metadata": {},
   "source": [
    "## Parse\n",
    "Once you have all the JSON files, you can parse the data into some other format that's useful for you. For instance, [Ilan Manor](http://www.qeh.ox.ac.uk/people/arDetails?qeh_id=MAN6IM4365) likes to work in Excel, so we created a parser for him that puts the data he cares about into a CSV Excel can read."
   ]
  },
  {
   "cell_type": "code",
   "execution_count": null,
   "metadata": {
    "collapsed": true
   },
   "outputs": [],
   "source": [
    "run twitter_parse.py"
   ]
  }
 ],
 "metadata": {
  "kernelspec": {
   "display_name": "Python 2",
   "language": "python",
   "name": "python2"
  },
  "language_info": {
   "codemirror_mode": {
    "name": "ipython",
    "version": 2
   },
   "file_extension": ".py",
   "mimetype": "text/x-python",
   "name": "python",
   "nbconvert_exporter": "python",
   "pygments_lexer": "ipython2",
   "version": "2.7.11"
  }
 },
 "nbformat": 4,
 "nbformat_minor": 0
}
